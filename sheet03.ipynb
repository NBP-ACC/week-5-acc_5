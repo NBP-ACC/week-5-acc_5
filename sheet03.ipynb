{
 "cells": [
  {
   "cell_type": "markdown",
   "metadata": {},
   "source": [
    "Osnabrück University - A&C: Computational Cognition (Summer Term 2019)"
   ]
  },
  {
   "cell_type": "markdown",
   "metadata": {},
   "source": [
    "# Exercise Sheet 03: Analysis of behavioural data"
   ]
  },
  {
   "cell_type": "markdown",
   "metadata": {},
   "source": [
    "## Introduction\n",
    "\n",
    "This week's sheet should be solved and handed in at 14:00 at **Tuesday, May 7, 2019**. If you need help (and Google and other resources were not enough), feel free to contact your tutors. Please push your results to your Github group folder.\n",
    "\n",
    "In this exercise sheet we will start to work on a real dataset from an ongoing experiment. In this experiment the participants were asked to freely explore an unknown virtual city, called Seahaven, with an interactive map. After a sufficiently long exploration the participants were tested on three different tasks: \n",
    "\n",
    "- the **absolute orientation** of a single house towards the north cardinal direction\n",
    "- the **relative orientation** between two houses \n",
    "- **pointing** from the location of one house to the other\n",
    "\n",
    "Each task type was performed in two time conditions:\n",
    "\n",
    "- **3 seconds** for spontaneous decisions\n",
    "- **infinite** response time for cognitive reasoning\n",
    "\n",
    "These measurements were repeated up to three times on different days.\n",
    "\n",
    "We will provide you with more detailed information about this experiment in the tutorial. If you are interested in more than this feel free to have a look at the paper https://www.biorxiv.org/content/10.1101/539080v1.\n",
    "\n",
    "A small side remark to the dataset: The RTs for the absolute task are exactly the same for both time conditions. This is an error that cannot be corrected on a short notice. Please keep that in mind, when you evaluate your plots."
   ]
  },
  {
   "cell_type": "markdown",
   "metadata": {},
   "source": [
    "## Assignment 0: Peer review for sheet 02 [3 pts]"
   ]
  },
  {
   "cell_type": "markdown",
   "metadata": {},
   "source": [
    "Open an issue in the repository of the groups you have to check. The title of the issue should be your group name (e.g. \"Group1). Comment on what was good and what was bad, the aesthetics and ease of reading the plots, what you would have done differently and how many points you would give them for their solutions.\n",
    "\n",
    "| * |Group 1|Group 2|Group 3|Group 4|Group 5|Group 6|Group 7|Group 8|Group 9|Group 10|Group 11|\n",
    "| ------- | ----- | ----- | ----- | ----- | ----- | ----- | ----- | ----- | ----- | ------ | ------ |\n",
    "| check solutions of group: | 11, 9 | 5, 1  | 8, 2  | 2, 7 | 10, 6 | 7, 11 | 6, 5  | 4, 3  | 3, 8  | 1, 4   | 9, 10  |"
   ]
  },
  {
   "cell_type": "markdown",
   "metadata": {},
   "source": [
    "## Assignment 1: Preprocessing [3 pts]"
   ]
  },
  {
   "cell_type": "code",
   "execution_count": 1,
   "metadata": {},
   "outputs": [],
   "source": [
    "import os\n",
    "import numpy as np\n",
    "import pandas as pd\n",
    "import matplotlib.pyplot as plt\n",
    "import seaborn as sns\n",
    "sns.set()\n",
    "from scipy import stats"
   ]
  },
  {
   "cell_type": "markdown",
   "metadata": {},
   "source": [
    "### a) Preprocessing the data [1 pt]"
   ]
  },
  {
   "cell_type": "markdown",
   "metadata": {},
   "source": [
    "First of all you should preprocess the data. This is an important step to avoid running into any problems when you start to analyse the data. Since we provide the Seahaven dataset as an excel file make sure to run ```pip install xlrd``` in your activated acc environment beforehand. This allows you to directly read from excel files.\n",
    "\n",
    "- Import the data of all three tasks (Absolute, Relative, Pointing) into one dataframe. Since we don't need the whole data, load only the columns \"ReactionTime\", \"AngularDiffBin\", \"Subject\", \"Task\", \"Time\", \"Answer\" and \"Measurement\".\n",
    "- Clean the dataframe of all NaNs, i.e. remove all rows where at least one element is missing. How many rows have been removed?\n",
    "- Change the values of the column \"Answer\". Replace each value \"wrong\" with 0 and each value \"correct\" with 1."
   ]
  },
  {
   "cell_type": "code",
   "execution_count": 2,
   "metadata": {},
   "outputs": [],
   "source": [
    "import xlrd\n",
    "\n",
    "#Path to file\n",
    "FILEPATH = os.path.join(os.getcwd(), 'Seahaven_dataset.xlsx')\n",
    "\n",
    "#Print out warning message if file is not in current directiory\n",
    "if(not os.path.isfile(FILEPATH)):\n",
    "    print(\"Seahaven_dataset.xlsx file not found in current directory\")\n",
    "\n",
    "#load excel file to workbook\n",
    "wb = xlrd.open_workbook(FILEPATH)\n",
    "\n",
    "#these are the columns we want to import to dataframe\n",
    "columns = [\"ReactionTime\", \"AngularDiffBin\", \"Subject\", \"Task\", \"Time\", \"Answer\", \"Measurement\"]\n",
    "\n",
    "#dataframe from excel file, containing all three sheets (AbsoluteTask, RelativeTask, PointingTask)\n",
    "#it is a dictionary of the three dataframes, we use the dictionary to handle the dataframes easily\n",
    "dataframeDict = pd.read_excel(wb, sheet_name=wb.sheet_names() , usecols=columns )\n"
   ]
  },
  {
   "cell_type": "code",
   "execution_count": 3,
   "metadata": {},
   "outputs": [
    {
     "name": "stdout",
     "output_type": "stream",
     "text": [
      "Lines removed after filtering out NaNs\n",
      "AbsoluteTask : 522\n",
      "RelativeTask : 370\n",
      "PointingTask : 409\n"
     ]
    },
    {
     "data": {
      "text/html": [
       "<div>\n",
       "<style scoped>\n",
       "    .dataframe tbody tr th:only-of-type {\n",
       "        vertical-align: middle;\n",
       "    }\n",
       "\n",
       "    .dataframe tbody tr th {\n",
       "        vertical-align: top;\n",
       "    }\n",
       "\n",
       "    .dataframe thead th {\n",
       "        text-align: right;\n",
       "    }\n",
       "</style>\n",
       "<table border=\"1\" class=\"dataframe\">\n",
       "  <thead>\n",
       "    <tr style=\"text-align: right;\">\n",
       "      <th></th>\n",
       "      <th>ReactionTime</th>\n",
       "      <th>AngularDiffBin</th>\n",
       "      <th>Subject</th>\n",
       "      <th>Task</th>\n",
       "      <th>Time</th>\n",
       "      <th>Answer</th>\n",
       "      <th>Measurement</th>\n",
       "    </tr>\n",
       "  </thead>\n",
       "  <tbody>\n",
       "    <tr>\n",
       "      <th>0</th>\n",
       "      <td>1.664824</td>\n",
       "      <td>150</td>\n",
       "      <td>1216</td>\n",
       "      <td>Absolute</td>\n",
       "      <td>3sec</td>\n",
       "      <td>0</td>\n",
       "      <td>1</td>\n",
       "    </tr>\n",
       "    <tr>\n",
       "      <th>1</th>\n",
       "      <td>0.865788</td>\n",
       "      <td>30</td>\n",
       "      <td>1216</td>\n",
       "      <td>Absolute</td>\n",
       "      <td>3sec</td>\n",
       "      <td>1</td>\n",
       "      <td>1</td>\n",
       "    </tr>\n",
       "    <tr>\n",
       "      <th>2</th>\n",
       "      <td>1.284187</td>\n",
       "      <td>60</td>\n",
       "      <td>1216</td>\n",
       "      <td>Absolute</td>\n",
       "      <td>3sec</td>\n",
       "      <td>0</td>\n",
       "      <td>1</td>\n",
       "    </tr>\n",
       "    <tr>\n",
       "      <th>3</th>\n",
       "      <td>2.081390</td>\n",
       "      <td>180</td>\n",
       "      <td>1216</td>\n",
       "      <td>Absolute</td>\n",
       "      <td>3sec</td>\n",
       "      <td>0</td>\n",
       "      <td>1</td>\n",
       "    </tr>\n",
       "    <tr>\n",
       "      <th>4</th>\n",
       "      <td>1.424746</td>\n",
       "      <td>120</td>\n",
       "      <td>1216</td>\n",
       "      <td>Absolute</td>\n",
       "      <td>3sec</td>\n",
       "      <td>1</td>\n",
       "      <td>1</td>\n",
       "    </tr>\n",
       "  </tbody>\n",
       "</table>\n",
       "</div>"
      ],
      "text/plain": [
       "   ReactionTime  AngularDiffBin  Subject      Task  Time  Answer  Measurement\n",
       "0      1.664824             150     1216  Absolute  3sec       0            1\n",
       "1      0.865788              30     1216  Absolute  3sec       1            1\n",
       "2      1.284187              60     1216  Absolute  3sec       0            1\n",
       "3      2.081390             180     1216  Absolute  3sec       0            1\n",
       "4      1.424746             120     1216  Absolute  3sec       1            1"
      ]
     },
     "execution_count": 3,
     "metadata": {},
     "output_type": "execute_result"
    }
   ],
   "source": [
    "#to be able to count how many lines have been removed, we need the original length of the sheets individually\n",
    "#this will be saved in the list \"removed\"\n",
    "removed = []\n",
    "for key,value in dataframeDict.items():\n",
    "    removed.append(len(dataframeDict[key]))\n",
    "\n",
    "#Inform User about the number of lines removed\n",
    "print(\"Lines removed after filtering out NaNs\")\n",
    "\n",
    "#iterating through the sheets\n",
    "for i, (key, value) in enumerate(dataframeDict.items()):\n",
    "    #removing lines containing >=0 \"NaN\" values\n",
    "    dataframeDict[key].dropna(how='any', inplace=True)\n",
    "    #replacing all \"wrong\" by 0 and all \"correct\" by 1 in column \"Answer\"\n",
    "    dataframeDict[key].Answer.replace(to_replace=[\"wrong\",\"correct\"], value=[0,1], inplace=True)\n",
    "    #now we can count and print how many lines have been removed\n",
    "    print(wb.sheet_names()[i], \":\", removed[i]-len(dataframeDict[key]))\n",
    "\n",
    "dataframeDict[\"AbsoluteTask\"].head()"
   ]
  },
  {
   "cell_type": "markdown",
   "metadata": {},
   "source": [
    "#### b) Checking the distribution of the data [2 pts]"
   ]
  },
  {
   "cell_type": "markdown",
   "metadata": {},
   "source": [
    "Most of the analysis techniques require normally distributed data. To get an idea on how the data looks like use the **preprocessed data** from 1.a) and plot for each task a violinplot that displays the data distribution of the RTs (note that you also have to distinguish between the two time conditions - 3sec and Infinite).\n",
    "\n",
    "- For each task (Absolute, Relative, Pointing) and time condition (3sec, Infinite) calculate the mean RT per subject.\n",
    "- Make a violinplot for each combination of task and time condition (you should end up with 6 violinplots). Make sure that the data distributions are displayed clearly and that the y-axes are uniformly scaled to make your plots comparable. You may split up the single plots for a better overview.\n",
    "- Hint: Play with the keyword inner.\n",
    "- Using your plots, what can you say about the distribution of the data? It is normally distributed? How is it skewed?"
   ]
  },
  {
   "cell_type": "code",
   "execution_count": 4,
   "metadata": {
    "scrolled": true
   },
   "outputs": [
    {
     "data": {
      "text/html": [
       "<div>\n",
       "<style scoped>\n",
       "    .dataframe tbody tr th:only-of-type {\n",
       "        vertical-align: middle;\n",
       "    }\n",
       "\n",
       "    .dataframe tbody tr th {\n",
       "        vertical-align: top;\n",
       "    }\n",
       "\n",
       "    .dataframe thead th {\n",
       "        text-align: right;\n",
       "    }\n",
       "</style>\n",
       "<table border=\"1\" class=\"dataframe\">\n",
       "  <thead>\n",
       "    <tr style=\"text-align: right;\">\n",
       "      <th></th>\n",
       "      <th>SubID</th>\n",
       "      <th>3secA</th>\n",
       "      <th>infA</th>\n",
       "      <th>3secR</th>\n",
       "      <th>infR</th>\n",
       "      <th>3secP</th>\n",
       "      <th>infP</th>\n",
       "    </tr>\n",
       "  </thead>\n",
       "  <tbody>\n",
       "    <tr>\n",
       "      <th>0</th>\n",
       "      <td>1216.0</td>\n",
       "      <td>1.341370</td>\n",
       "      <td>1.341370</td>\n",
       "      <td>1.015738</td>\n",
       "      <td>2.554127</td>\n",
       "      <td>1.324583</td>\n",
       "      <td>1.663641</td>\n",
       "    </tr>\n",
       "    <tr>\n",
       "      <th>1</th>\n",
       "      <td>1217.0</td>\n",
       "      <td>1.810178</td>\n",
       "      <td>1.810178</td>\n",
       "      <td>1.673906</td>\n",
       "      <td>4.713493</td>\n",
       "      <td>1.877376</td>\n",
       "      <td>24.158690</td>\n",
       "    </tr>\n",
       "    <tr>\n",
       "      <th>2</th>\n",
       "      <td>1385.0</td>\n",
       "      <td>2.125904</td>\n",
       "      <td>2.125904</td>\n",
       "      <td>2.151579</td>\n",
       "      <td>1.840848</td>\n",
       "      <td>1.914552</td>\n",
       "      <td>2.654322</td>\n",
       "    </tr>\n",
       "    <tr>\n",
       "      <th>3</th>\n",
       "      <td>1531.0</td>\n",
       "      <td>1.610233</td>\n",
       "      <td>1.610233</td>\n",
       "      <td>0.856836</td>\n",
       "      <td>1.658017</td>\n",
       "      <td>0.551595</td>\n",
       "      <td>1.208625</td>\n",
       "    </tr>\n",
       "    <tr>\n",
       "      <th>4</th>\n",
       "      <td>1533.0</td>\n",
       "      <td>2.197194</td>\n",
       "      <td>2.197194</td>\n",
       "      <td>2.265275</td>\n",
       "      <td>5.037918</td>\n",
       "      <td>1.900894</td>\n",
       "      <td>5.202868</td>\n",
       "    </tr>\n",
       "  </tbody>\n",
       "</table>\n",
       "</div>"
      ],
      "text/plain": [
       "    SubID     3secA      infA     3secR      infR     3secP       infP\n",
       "0  1216.0  1.341370  1.341370  1.015738  2.554127  1.324583   1.663641\n",
       "1  1217.0  1.810178  1.810178  1.673906  4.713493  1.877376  24.158690\n",
       "2  1385.0  2.125904  2.125904  2.151579  1.840848  1.914552   2.654322\n",
       "3  1531.0  1.610233  1.610233  0.856836  1.658017  0.551595   1.208625\n",
       "4  1533.0  2.197194  2.197194  2.265275  5.037918  1.900894   5.202868"
      ]
     },
     "execution_count": 4,
     "metadata": {},
     "output_type": "execute_result"
    }
   ],
   "source": [
    "#to create the plots we will first save the calculated means to a new dataframe with 7 columns:\n",
    "#the 0th column is the SubjectID, \n",
    "#columns 1&2 refer to the AbsoluteTask, 3&4 to the RelativeTask and the last two columns to the PointingTask\n",
    "#for every task there are two columns, one for each trial type\n",
    "plotColumns = ['SubID','3secA', 'infA', '3secR', 'infR', '3secP', 'infP']\n",
    "#creating the new dataframe \n",
    "plotDF = pd.DataFrame(columns=plotColumns)\n",
    "\n",
    "#a helper list to be able to add new lines to the dataframe\n",
    "row =[]\n",
    "\n",
    "#there are two types of trials\n",
    "trialTypes =['3sec', 'Infinite']\n",
    "\n",
    "#all three tasks were executed by the same amount of subjects (previously checked) thus we only need \n",
    "#to drop the duplicates of the column \"Subject\" of one of the three tasks to get a list of SubIDs\n",
    "subIDs = dataframeDict['AbsoluteTask'].Subject.drop_duplicates()\n",
    "\n",
    "#iterating through the 97 subjects to calculate the means individually\n",
    "for ID in subIDs:\n",
    "    #the first column always is the subject ID so we add the ID to the helper row\n",
    "    row.append(ID)\n",
    "    #from column 1 on the task changes every second column, thus we also need to iterate through the tasks/sheets\n",
    "    #that are saved in our dataframe dictionary\n",
    "    \n",
    "    for key,value in dataframeDict.items():\n",
    "        #grouping the current task/sheet by subject and task condition (which can be found in the column \"time\")\n",
    "        grouped =  dataframeDict[key].groupby(['Subject','Time'])\n",
    "        #for the current task and subject we have two different trials so we need a third loop that iterates through them\n",
    "        \n",
    "        for trialType in trialTypes:\n",
    "            #this will calculate the mean of the current task, subject and trialtype\n",
    "            mean = grouped.get_group((ID, trialType)).ReactionTime.mean()\n",
    "            #appending to the helper row, the order will be correct by default due to the structure of the loops\n",
    "            row.append(mean)\n",
    "            \n",
    "    #finally adding the new row to the dataset\n",
    "    plotDF = plotDF.append(pd.Series(row, index=plotColumns), ignore_index = True)\n",
    "    #clearing row for the next iteration\n",
    "    row.clear()\n",
    "\n",
    "plotDF.head()"
   ]
  },
  {
   "cell_type": "code",
   "execution_count": 19,
   "metadata": {},
   "outputs": [
    {
     "data": {
      "text/plain": [
       "<matplotlib.axes._subplots.AxesSubplot at 0x2524e1ed208>"
      ]
     },
     "execution_count": 19,
     "metadata": {},
     "output_type": "execute_result"
    },
    {
     "data": {
      "image/png": "[encoded data removed]",
      "text/plain": [
       "<Figure size 864x576 with 6 Axes>"
      ]
     },
     "metadata": {
      "needs_background": "light"
     },
     "output_type": "display_data"
    }
   ],
   "source": [
    "fig, axes = plt.subplots(nrows=2,ncols=3, figsize=(12,8), sharey=True, sharex=\"all\")\n",
    "axes = axes.flatten()\n",
    "\n",
    "axes[0].set_title(\"Absolute Task\")\n",
    "axes[1].set_title(\"Relative Task\")\n",
    "axes[2].set_title(\"Pointing Task\")\n",
    "\n",
    "sns.violinplot(x=None, y=plotDF['3secA'], ax=axes[0])\n",
    "sns.violinplot(x=None, y=plotDF['infA'], ax=axes[3])\n",
    "sns.violinplot(x=None, y=plotDF['3secR'], ax=axes[1])\n",
    "sns.violinplot(x=None, y=plotDF['infR'], ax=axes[4])\n",
    "sns.violinplot(x=None, y=plotDF['3secP'], ax=axes[2])\n",
    "sns.violinplot(x=None, y=plotDF['infP'], ax=axes[5])"
   ]
  },
  {
   "cell_type": "markdown",
   "metadata": {},
   "source": [
    "You may have noticed that there are (extreme) outliers, that have to be removed from the **preprocessed data**.\n",
    "\n",
    "- For each task (Absolute, Relative, Pointing) and time condition (3sec, Infinite) look at the RTs and keep only the ones that are within +2 and -2 standard deviation:\n",
    "\n",
    "$ |(RT_{group1} - mean(RT_{group1}))| \\leq (2*std(RT_{group1})) $\n",
    "\n",
    "$group1$ = e.g. data of absolute task for time condition 3sec\n",
    "\n",
    "- Make again a violinplot for each combination of task and time condition (you should end up with 6 violinplots). Make sure that the data distributions are displayed clearly and that the y-axes are uniformly scaled to make your plots comparable. You may split up the single plots for a better overview.\n",
    "- How does the distribution of the data look now? Is it still skewed?"
   ]
  },
  {
   "cell_type": "code",
   "execution_count": 6,
   "metadata": {},
   "outputs": [],
   "source": [
    "# this list will have 6 entries, for each task and then for each time condition one entry \n",
    "# in the end it will be used for the plots and the original dataframe has not to be changed\n",
    "dataframeList = []\n",
    "\n",
    "# take the preprocessed data and go through all the three tasks \n",
    "for task in dataframeDict:\n",
    "    # group the dataframe by the timecondition\n",
    "    grouped = dataframeDict[task].groupby(['Time'])\n",
    "    \n",
    "    # for each time condition calculate the mean \n",
    "    for timeCond in trialTypes:\n",
    "        # this will calculate the mean of the current task and the trialtype (3sec or infinite)\n",
    "        mean = grouped.get_group(timeCond).ReactionTime.mean()\n",
    "        std = grouped.get_group(timeCond).ReactionTime.std()               \n",
    "        # check if the RT in each row is not an extreme outlier\n",
    "        # calculate the z-value and check if the value is more than 2 stds away form the mean\n",
    "        # if this is the case the the complete row has to be dropped\n",
    "        # it yields z = (RT-mean)/std\n",
    "        dropByIndex = grouped.get_group(timeCond).index[((grouped.get_group(timeCond).ReactionTime - mean)/std) > 2]\n",
    "        dataframeList.append(grouped.get_group(timeCond).drop(dropByIndex))"
   ]
  },
  {
   "cell_type": "code",
   "execution_count": 7,
   "metadata": {},
   "outputs": [
    {
     "data": {
      "text/plain": [
       "<matplotlib.axes._subplots.AxesSubplot at 0x2524dde8160>"
      ]
     },
     "execution_count": 7,
     "metadata": {},
     "output_type": "execute_result"
    },
    {
     "data": {
      "image/png": "[encoded data removed]",
      "text/plain": [
       "<Figure size 864x576 with 6 Axes>"
      ]
     },
     "metadata": {
      "needs_background": "light"
     },
     "output_type": "display_data"
    }
   ],
   "source": [
    "fig, axes = plt.subplots(nrows=2,ncols=3, figsize=(12,8), sharey=True, sharex=\"all\")\n",
    "axes = axes.flatten()\n",
    "\n",
    "axes[0].set_title(\"Absolute Task\")\n",
    "axes[1].set_title(\"Relative Task\")\n",
    "axes[2].set_title(\"Pointing Task\")\n",
    "\n",
    "\n",
    "# In the list of dataframes we have the data in the following order:\n",
    "# AbsoluteTask 3sec, AbsoluteTask Infinite, RelativeTask 3sec, RelativeTask Infinite, \n",
    "# PointingTask 3sec, PointingTask Infinite \n",
    "# thus we can plot each group in a different subplot\n",
    "\n",
    "sns.violinplot(x=None, y=dataframeList[0]['ReactionTime'], ax=axes[0])\n",
    "sns.violinplot(x=None, y=dataframeList[1]['ReactionTime'], ax=axes[3])\n",
    "sns.violinplot(x=None, y=dataframeList[2]['ReactionTime'], ax=axes[1])\n",
    "sns.violinplot(x=None, y=dataframeList[3]['ReactionTime'], ax=axes[4])\n",
    "sns.violinplot(x=None, y=dataframeList[4]['ReactionTime'], ax=axes[2])\n",
    "sns.violinplot(x=None, y=dataframeList[5]['ReactionTime'], ax=axes[5])"
   ]
  },
  {
   "cell_type": "markdown",
   "metadata": {},
   "source": [
    "**Please make sure that you use the preprocessed data without outliers for the following assignments!**"
   ]
  },
  {
   "cell_type": "markdown",
   "metadata": {},
   "source": [
    "## Assignment 2: Checking for possible hypotheses [5 pts]"
   ]
  },
  {
   "cell_type": "markdown",
   "metadata": {},
   "source": [
    "### a) Hypothesis 1 [2 pt]"
   ]
  },
  {
   "cell_type": "markdown",
   "metadata": {},
   "source": [
    "**Hypothesis 1:** \"Given that subjects are limited by time, if they are faster in RT they are also less accurate.\"\n",
    "\n",
    "- Use the data of the relative task.\n",
    "- For each time condition (3sec / Infinite) calculate the mean RT and Accuracy per subject. Rename the column \"Answer\" to \"Accuracy\" (the accuracy corresponds to the averaged answer-values).\n",
    "- Make a scatterplot of the mean RT (x-axis) and the accuracy (y-axis) for the time condition \"3sec\". \n",
    "- Make a second scatterplot and add a simple linear regression line to it. Calculate the slope of the regression line (you are allowed to use scipy). \n",
    "- Considering your results, what can you say about the hypothesis?"
   ]
  },
  {
   "cell_type": "code",
   "execution_count": 23,
   "metadata": {},
   "outputs": [],
   "source": [
    "plotDF.head()\n",
    "# at index 3, 7 and 11 we have to add a new column because we have for each three tasks \n",
    "# helper list, indicates start of new pair of columns \n",
    "columns = [3,7,11]\n",
    "\n",
    "#inserting missing columns to the existing dataframe\n",
    "plotDF.insert(value=np.nan, loc = 3, column='3secAccuracyA')\n",
    "plotDF.insert(value=np.nan, loc = 4, column='infAccuracyA')\n",
    "plotDF.insert(value=np.nan, loc = 7, column='3secAccuracyR')\n",
    "plotDF.insert(value=np.nan, loc = 8, column='infAccuracyR')\n",
    "plotDF.insert(value=np.nan, loc = 11, column='3secAccuracyP')\n",
    "plotDF.insert(value=np.nan, loc = 12, column='infAccuracyP')"
   ]
  },
  {
   "cell_type": "code",
   "execution_count": 24,
   "metadata": {},
   "outputs": [
    {
     "data": {
      "text/html": [
       "<div>\n",
       "<style scoped>\n",
       "    .dataframe tbody tr th:only-of-type {\n",
       "        vertical-align: middle;\n",
       "    }\n",
       "\n",
       "    .dataframe tbody tr th {\n",
       "        vertical-align: top;\n",
       "    }\n",
       "\n",
       "    .dataframe thead th {\n",
       "        text-align: right;\n",
       "    }\n",
       "</style>\n",
       "<table border=\"1\" class=\"dataframe\">\n",
       "  <thead>\n",
       "    <tr style=\"text-align: right;\">\n",
       "      <th></th>\n",
       "      <th>SubID</th>\n",
       "      <th>3secA</th>\n",
       "      <th>infA</th>\n",
       "      <th>3secAccuracyA</th>\n",
       "      <th>infAccuracyA</th>\n",
       "      <th>3secR</th>\n",
       "      <th>infR</th>\n",
       "      <th>3secAccuracyR</th>\n",
       "      <th>infAccuracyR</th>\n",
       "      <th>3secP</th>\n",
       "      <th>infP</th>\n",
       "      <th>3secAccuracyP</th>\n",
       "      <th>infAccuracyP</th>\n",
       "    </tr>\n",
       "  </thead>\n",
       "  <tbody>\n",
       "    <tr>\n",
       "      <th>0</th>\n",
       "      <td>1216.0</td>\n",
       "      <td>1.341370</td>\n",
       "      <td>1.341370</td>\n",
       "      <td>0.485714</td>\n",
       "      <td>0.485714</td>\n",
       "      <td>1.015738</td>\n",
       "      <td>2.554127</td>\n",
       "      <td>0.333333</td>\n",
       "      <td>0.555556</td>\n",
       "      <td>1.324583</td>\n",
       "      <td>1.663641</td>\n",
       "      <td>0.361111</td>\n",
       "      <td>0.583333</td>\n",
       "    </tr>\n",
       "    <tr>\n",
       "      <th>1</th>\n",
       "      <td>1217.0</td>\n",
       "      <td>1.810178</td>\n",
       "      <td>1.810178</td>\n",
       "      <td>0.742857</td>\n",
       "      <td>0.742857</td>\n",
       "      <td>1.673906</td>\n",
       "      <td>4.713493</td>\n",
       "      <td>0.529412</td>\n",
       "      <td>0.555556</td>\n",
       "      <td>1.877376</td>\n",
       "      <td>24.158690</td>\n",
       "      <td>0.571429</td>\n",
       "      <td>0.555556</td>\n",
       "    </tr>\n",
       "    <tr>\n",
       "      <th>2</th>\n",
       "      <td>1385.0</td>\n",
       "      <td>2.125904</td>\n",
       "      <td>2.125904</td>\n",
       "      <td>0.545455</td>\n",
       "      <td>0.545455</td>\n",
       "      <td>2.151579</td>\n",
       "      <td>1.840848</td>\n",
       "      <td>0.411765</td>\n",
       "      <td>0.472222</td>\n",
       "      <td>1.914552</td>\n",
       "      <td>2.654322</td>\n",
       "      <td>0.500000</td>\n",
       "      <td>0.583333</td>\n",
       "    </tr>\n",
       "    <tr>\n",
       "      <th>3</th>\n",
       "      <td>1531.0</td>\n",
       "      <td>1.610233</td>\n",
       "      <td>1.610233</td>\n",
       "      <td>0.647059</td>\n",
       "      <td>0.647059</td>\n",
       "      <td>0.856836</td>\n",
       "      <td>1.658017</td>\n",
       "      <td>0.527778</td>\n",
       "      <td>0.416667</td>\n",
       "      <td>0.551595</td>\n",
       "      <td>1.208625</td>\n",
       "      <td>0.617647</td>\n",
       "      <td>0.611111</td>\n",
       "    </tr>\n",
       "    <tr>\n",
       "      <th>4</th>\n",
       "      <td>1533.0</td>\n",
       "      <td>2.197194</td>\n",
       "      <td>2.197194</td>\n",
       "      <td>0.545455</td>\n",
       "      <td>0.545455</td>\n",
       "      <td>2.265275</td>\n",
       "      <td>5.037918</td>\n",
       "      <td>0.515152</td>\n",
       "      <td>0.666667</td>\n",
       "      <td>1.900894</td>\n",
       "      <td>5.202868</td>\n",
       "      <td>0.485714</td>\n",
       "      <td>0.611111</td>\n",
       "    </tr>\n",
       "  </tbody>\n",
       "</table>\n",
       "</div>"
      ],
      "text/plain": [
       "    SubID     3secA      infA  3secAccuracyA  infAccuracyA     3secR  \\\n",
       "0  1216.0  1.341370  1.341370       0.485714      0.485714  1.015738   \n",
       "1  1217.0  1.810178  1.810178       0.742857      0.742857  1.673906   \n",
       "2  1385.0  2.125904  2.125904       0.545455      0.545455  2.151579   \n",
       "3  1531.0  1.610233  1.610233       0.647059      0.647059  0.856836   \n",
       "4  1533.0  2.197194  2.197194       0.545455      0.545455  2.265275   \n",
       "\n",
       "       infR  3secAccuracyR  infAccuracyR     3secP       infP  3secAccuracyP  \\\n",
       "0  2.554127       0.333333      0.555556  1.324583   1.663641       0.361111   \n",
       "1  4.713493       0.529412      0.555556  1.877376  24.158690       0.571429   \n",
       "2  1.840848       0.411765      0.472222  1.914552   2.654322       0.500000   \n",
       "3  1.658017       0.527778      0.416667  0.551595   1.208625       0.617647   \n",
       "4  5.037918       0.515152      0.666667  1.900894   5.202868       0.485714   \n",
       "\n",
       "   infAccuracyP  \n",
       "0      0.583333  \n",
       "1      0.555556  \n",
       "2      0.583333  \n",
       "3      0.611111  \n",
       "4      0.611111  "
      ]
     },
     "execution_count": 24,
     "metadata": {},
     "output_type": "execute_result"
    }
   ],
   "source": [
    "#groups for each sheet/Task type\n",
    "grouped1 =  dataframeDict['AbsoluteTask'].groupby(['Subject', 'Time'])\n",
    "grouped2 =  dataframeDict['RelativeTask'].groupby(['Subject', 'Time'])\n",
    "grouped3 =  dataframeDict['PointingTask'].groupby(['Subject', 'Time'])\n",
    "\n",
    "#helper list for iterating through groups\n",
    "groups = [grouped1, grouped2, grouped3]\n",
    "#helper row to be able to iterate through subjects\n",
    "row = 0\n",
    "\n",
    "#for each subject we need new mean values\n",
    "for ID in subIDs:\n",
    "    #iterating through different groups\n",
    "    for i,group in enumerate(groups):\n",
    "        #Accuracy mean for 3sec task with the respective ID and group\n",
    "        mean3sec = group.get_group((ID, '3sec')).Answer.mean()\n",
    "        #Accuracy mean for Infinite task with the respective ID and group\n",
    "        meanInf = group.get_group((ID, 'Infinite')).Answer.mean()\n",
    "        #saving the mean value to the current row and column (which can be taken from the helper list)\n",
    "        plotDF.iloc[row, columns[i]] = mean3sec\n",
    "        #mean Infinite value needs to be saved to the column right next to the last one\n",
    "        plotDF.iloc[row, (columns[i]+1)] = meanInf\n",
    "    #with each new subID we need to switch to the next row\n",
    "    row = row+1\n",
    "plotDF.head()\n"
   ]
  },
  {
   "cell_type": "markdown",
   "metadata": {},
   "source": [
    "### b) Hypothesis 2 [1 pt]"
   ]
  },
  {
   "cell_type": "markdown",
   "metadata": {},
   "source": [
    "**Hypothesis 2:** \"Given that subjects have infinite time, they perform better.\"\n",
    "\n",
    "- Use the data of all three tasks.\n",
    "- For each task (Absolute, Relative, Pointing) and time condition (3sec, Infinite) calculate the accuracy per subject. Rename the column \"Answer\" to \"Accuracy\" (the accuracy corresponds to the averaged answer-values).\n",
    "- Make a pointplot of the tasks (x-axis) and the accuracy (y-axis) for both time conditions (3sec / Infinite). The y-axis should start at 0.0 and end at 1.0.\n",
    "- For better comparison print both conditions in one plot and add a line at accuracy=0.5 to check if the results are above chance.\n",
    "- Hint: Play with the keyword dodge.\n",
    "- Considering your plots, what can you say about the hypothesis?"
   ]
  },
  {
   "cell_type": "code",
   "execution_count": 9,
   "metadata": {},
   "outputs": [],
   "source": [
    "# TODO"
   ]
  },
  {
   "cell_type": "markdown",
   "metadata": {},
   "source": [
    "### d) Hypothesis 3 [1 pt]"
   ]
  },
  {
   "cell_type": "markdown",
   "metadata": {},
   "source": [
    "**Hypothesis 3:** \"With each subsequent session subjects get better in performance.\"\n",
    "\n",
    "- Use the data of the relative task.\n",
    "- For each time condition (3sec / Infinite) calculate the mean RT and Accuracy per subject. Rename the column \"Answer\" to \"Accuracy\" (the accuracy corresponds to the averaged answer-values).\n",
    "- Make a pointplot of the measurement (x-axis) and the accuracy (y-axis) for both time conditions (3sec / Infinite). The y-axis should start at 0.0 and end at 1.0.\n",
    "- For better comparison print both conditions in one plot and add a line at accuracy=0.5 to check if the results are above chance.\n",
    "- Hint: Play with the keyword dodge.\n",
    "- Make also a pointplot of the measurement (x-axis) and RT (y-axis) for both time conditions (3sec / Infinite).  Make sure that the data is displayed clearly. You may split up the single plots for a better overview.\n",
    "- Considering your plots, what can you say about the hypothesis?"
   ]
  },
  {
   "cell_type": "code",
   "execution_count": 22,
   "metadata": {},
   "outputs": [
    {
     "name": "stdout",
     "output_type": "stream",
     "text": [
      "      ReactionTime  AngularDiffBin  Subject      Task  Time  Answer  \\\n",
      "0         0.823629           120.0   1216.0  Relative  3sec       0   \n",
      "1         1.999603           150.0   1216.0  Relative  3sec       0   \n",
      "2         0.566518            60.0   1216.0  Relative  3sec       0   \n",
      "3         1.067995            90.0   1216.0  Relative  3sec       0   \n",
      "4         0.606073           180.0   1216.0  Relative  3sec       0   \n",
      "72        2.163446           120.0   1217.0  Relative  3sec       1   \n",
      "74        1.823343            60.0   1217.0  Relative  3sec       1   \n",
      "75        0.931664            90.0   1217.0  Relative  3sec       1   \n",
      "76        1.519006           180.0   1217.0  Relative  3sec       0   \n",
      "78        1.887034            90.0   1217.0  Relative  3sec       1   \n",
      "144       2.175113           120.0   1385.0  Relative  3sec       0   \n",
      "145       2.107829           150.0   1385.0  Relative  3sec       1   \n",
      "146       2.775731            60.0   1385.0  Relative  3sec       1   \n",
      "147       2.017160            90.0   1385.0  Relative  3sec       1   \n",
      "148       2.894313           180.0   1385.0  Relative  3sec       1   \n",
      "216       0.350366           120.0   1531.0  Relative  3sec       1   \n",
      "217       2.275997           150.0   1531.0  Relative  3sec       1   \n",
      "218       0.300692            60.0   1531.0  Relative  3sec       1   \n",
      "219       0.772187            90.0   1531.0  Relative  3sec       0   \n",
      "220       0.447675           180.0   1531.0  Relative  3sec       1   \n",
      "288       2.600210           120.0   1533.0  Relative  3sec       1   \n",
      "289       2.912660           150.0   1533.0  Relative  3sec       1   \n",
      "290       2.136700            60.0   1533.0  Relative  3sec       0   \n",
      "291       1.781457            90.0   1533.0  Relative  3sec       1   \n",
      "292       2.187974           180.0   1533.0  Relative  3sec       1   \n",
      "361       1.308311           150.0   1719.0  Relative  3sec       0   \n",
      "363       0.867621            90.0   1719.0  Relative  3sec       0   \n",
      "364       1.669780           180.0   1719.0  Relative  3sec       0   \n",
      "365       2.112880            30.0   1719.0  Relative  3sec       1   \n",
      "367       1.581206            60.0   1719.0  Relative  3sec       0   \n",
      "...            ...             ...      ...       ...   ...     ...   \n",
      "6768      1.799621           120.0   9826.0  Relative  3sec       0   \n",
      "6769      1.378205           150.0   9826.0  Relative  3sec       0   \n",
      "6770      1.257271            60.0   9826.0  Relative  3sec       1   \n",
      "6771      2.040120            90.0   9826.0  Relative  3sec       1   \n",
      "6772      1.879847           180.0   9826.0  Relative  3sec       1   \n",
      "6840      2.279289           120.0   9849.0  Relative  3sec       0   \n",
      "6841      1.450919           150.0   9849.0  Relative  3sec       1   \n",
      "6842      1.924933            60.0   9849.0  Relative  3sec       1   \n",
      "6843      2.882968            90.0   9849.0  Relative  3sec       0   \n",
      "6844      2.088710           180.0   9849.0  Relative  3sec       1   \n",
      "6912      1.671725           120.0   9864.0  Relative  3sec       1   \n",
      "6913      0.973913           150.0   9864.0  Relative  3sec       1   \n",
      "6914      1.585686            60.0   9864.0  Relative  3sec       1   \n",
      "6915      1.613569            90.0   9864.0  Relative  3sec       1   \n",
      "6916      1.647387           180.0   9864.0  Relative  3sec       0   \n",
      "6984      1.277011           120.0   9923.0  Relative  3sec       0   \n",
      "6985      2.347310           150.0   9923.0  Relative  3sec       0   \n",
      "6986      1.485880            60.0   9923.0  Relative  3sec       0   \n",
      "6987      1.737772            90.0   9923.0  Relative  3sec       1   \n",
      "6988      2.424611           180.0   9923.0  Relative  3sec       0   \n",
      "7056      1.362882           120.0   9997.0  Relative  3sec       1   \n",
      "7057      1.615773           150.0   9997.0  Relative  3sec       1   \n",
      "7058      1.402406            60.0   9997.0  Relative  3sec       1   \n",
      "7059      2.369515            90.0   9997.0  Relative  3sec       0   \n",
      "7060      1.354057           180.0   9997.0  Relative  3sec       1   \n",
      "7128      1.560704           120.0   9998.0  Relative  3sec       1   \n",
      "7129      2.459840           150.0   9998.0  Relative  3sec       1   \n",
      "7130      1.645633            60.0   9998.0  Relative  3sec       1   \n",
      "7131      1.143321            90.0   9998.0  Relative  3sec       1   \n",
      "7132      2.563919           180.0   9998.0  Relative  3sec       1   \n",
      "\n",
      "      Measurement  \n",
      "0             1.0  \n",
      "1             1.0  \n",
      "2             1.0  \n",
      "3             1.0  \n",
      "4             1.0  \n",
      "72            3.0  \n",
      "74            3.0  \n",
      "75            3.0  \n",
      "76            3.0  \n",
      "78            3.0  \n",
      "144           1.0  \n",
      "145           1.0  \n",
      "146           1.0  \n",
      "147           1.0  \n",
      "148           1.0  \n",
      "216           1.0  \n",
      "217           1.0  \n",
      "218           1.0  \n",
      "219           1.0  \n",
      "220           1.0  \n",
      "288           2.0  \n",
      "289           2.0  \n",
      "290           2.0  \n",
      "291           2.0  \n",
      "292           2.0  \n",
      "361           2.0  \n",
      "363           2.0  \n",
      "364           2.0  \n",
      "365           2.0  \n",
      "367           2.0  \n",
      "...           ...  \n",
      "6768          3.0  \n",
      "6769          3.0  \n",
      "6770          3.0  \n",
      "6771          3.0  \n",
      "6772          3.0  \n",
      "6840          2.0  \n",
      "6841          2.0  \n",
      "6842          2.0  \n",
      "6843          2.0  \n",
      "6844          2.0  \n",
      "6912          3.0  \n",
      "6913          3.0  \n",
      "6914          3.0  \n",
      "6915          3.0  \n",
      "6916          3.0  \n",
      "6984          1.0  \n",
      "6985          1.0  \n",
      "6986          1.0  \n",
      "6987          1.0  \n",
      "6988          1.0  \n",
      "7056          2.0  \n",
      "7057          2.0  \n",
      "7058          2.0  \n",
      "7059          2.0  \n",
      "7060          2.0  \n",
      "7128          1.0  \n",
      "7129          1.0  \n",
      "7130          1.0  \n",
      "7131          1.0  \n",
      "7132          1.0  \n",
      "\n",
      "[485 rows x 7 columns]\n"
     ]
    }
   ],
   "source": [
    "# we use the data from task 2a) so we don't have to loop through the dataset every task\n",
    "\n",
    "# we plot the measurement on the x-axis and the accuracy on the y-axis\n",
    "# we need the measurement data for all subIDs so we need to first group by subID and get the measurements\n",
    "grouped = dataframeDict[\"RelativeTask\"].groupby(['Subject'])\n",
    "\n",
    "print(grouped.head())\n"
   ]
  },
  {
   "cell_type": "markdown",
   "metadata": {},
   "source": [
    "### c) Hypothesis 4 [1 pts]"
   ]
  },
  {
   "cell_type": "markdown",
   "metadata": {},
   "source": [
    "**Hypothesis 4:** \"When the angular difference between houses increases subjects are more accurate in the relative task.\"\n",
    "\n",
    "- Use the data of the relative task.\n",
    "- For each angular difference (see \"AngularDiffBin\") calculate the accuracy per subject. Rename the column \"Answer\" to \"Accuracy\" (the accuracy corresponds to the averaged answer-values).\n",
    "- Make a pointplot of the angular differences (x-axis) and the accuracy (y-axis) for both time conditions (3sec / Infinite). The y-axis should start at 0.0 and end at 1.0.\n",
    "- For better comparison print both conditions in one plot and add a line at accuracy=0.5 to check if the results are above chance. Make sure that the angular differences are displayed in ascending order.\n",
    "- Hint: Play with the keyword dodge.\n",
    "- Considering your plots, what can you say about the hypothesis?"
   ]
  },
  {
   "cell_type": "code",
   "execution_count": 11,
   "metadata": {},
   "outputs": [],
   "source": [
    "# TODO"
   ]
  },
  {
   "cell_type": "markdown",
   "metadata": {},
   "source": [
    "## Assignment 3: T-test [2 pts]"
   ]
  },
  {
   "cell_type": "markdown",
   "metadata": {},
   "source": [
    "We will perform a two-sample t-test, i.e. we compare the mean of two groups under the assumption that both are independent and normally distributed with unknown but equal variances. In this case we will look at the data of the relative task and compare the accuracies of the two time conditions (3sec / Infinte). We will ignore that there are different measurement days!\n",
    "\n",
    "- Use the data of the relative task.\n",
    "- For each time condition (3sec / Infinite) calculate the accuracy per subject. Rename the column \"Answer\" to \"Accuracy\" (the accuracy corresponds to the averaged answer-values).\n",
    "- Check if the data is normally distributed using scipy.stats.normaltest.\n",
    "\n",
    "\n",
    "- Compute the t-statistics: $ t = \\frac{\\bar{x}_1 - \\bar{x}_2}{\\sqrt{\\frac{s_1^2}{n_1} + \\frac{s_2^2}{n_2}}} $\n",
    "\n",
    "$\\bar{x}_1$: mean accuracy of all subjects for time condition \"3sec\" <br>\n",
    "$\\bar{x}_2$: mean accuracy of all subjects for time condition \"Infinite\" <br>\n",
    "$n_1$: sample size for time condition \"3sec\" <br>\n",
    "$n_2$: sample size for time condition \"Infinite\"\n",
    "\n",
    "\n",
    "- with $ s^2 = \\frac{\\sum_{i=1}^n{(x_i - \\bar{x})^2}}{n-1} $\n",
    "\n",
    "$x_i$: accuracy of subject i <br>\n",
    "$\\bar{x}$: mean accuracy of all subjects <br>\n",
    "$n$: sample size\n",
    "\n",
    "\n",
    "- Calculate the degrees of freedom: $ df = n_1 + n_2 -2 $\n",
    "- What does the p-value of a t-test tell you in general? Also explain what your calculated p-value tells you specifically (given $\\alpha = 0.05$)?"
   ]
  },
  {
   "cell_type": "code",
   "execution_count": 12,
   "metadata": {},
   "outputs": [
    {
     "ename": "NameError",
     "evalue": "name 't' is not defined",
     "output_type": "error",
     "traceback": [
      "\u001b[1;31m---------------------------------------------------------------------------\u001b[0m",
      "\u001b[1;31mNameError\u001b[0m                                 Traceback (most recent call last)",
      "\u001b[1;32m<ipython-input-12-79687e432743>\u001b[0m in \u001b[0;36m<module>\u001b[1;34m\u001b[0m\n\u001b[0;32m      2\u001b[0m \u001b[1;33m\u001b[0m\u001b[0m\n\u001b[0;32m      3\u001b[0m \u001b[1;31m# gives you the p-value after comparing the t-statistic with the critical t value (computed internally)\u001b[0m\u001b[1;33m\u001b[0m\u001b[1;33m\u001b[0m\u001b[1;33m\u001b[0m\u001b[0m\n\u001b[1;32m----> 4\u001b[1;33m \u001b[0mp\u001b[0m \u001b[1;33m=\u001b[0m \u001b[1;36m1\u001b[0m \u001b[1;33m-\u001b[0m \u001b[0mstats\u001b[0m\u001b[1;33m.\u001b[0m\u001b[0mt\u001b[0m\u001b[1;33m.\u001b[0m\u001b[0mcdf\u001b[0m\u001b[1;33m(\u001b[0m\u001b[0mt\u001b[0m\u001b[1;33m,\u001b[0m\u001b[0mdf\u001b[0m\u001b[1;33m=\u001b[0m\u001b[0mdf\u001b[0m\u001b[1;33m)\u001b[0m\u001b[1;33m\u001b[0m\u001b[1;33m\u001b[0m\u001b[0m\n\u001b[0m\u001b[0;32m      5\u001b[0m \u001b[1;33m\u001b[0m\u001b[0m\n\u001b[0;32m      6\u001b[0m \u001b[0mprint\u001b[0m\u001b[1;33m(\u001b[0m\u001b[1;34m\"t = \"\u001b[0m \u001b[1;33m+\u001b[0m \u001b[0mstr\u001b[0m\u001b[1;33m(\u001b[0m\u001b[0mt\u001b[0m\u001b[1;33m)\u001b[0m\u001b[1;33m)\u001b[0m\u001b[1;33m\u001b[0m\u001b[1;33m\u001b[0m\u001b[0m\n",
      "\u001b[1;31mNameError\u001b[0m: name 't' is not defined"
     ]
    }
   ],
   "source": [
    "# TODO\n",
    "\n",
    "# gives you the p-value after comparing the t-statistic with the critical t value (computed internally) \n",
    "p = 1 - stats.t.cdf(t,df=df)\n",
    "\n",
    "print(\"t = \" + str(t))\n",
    "print(\"p = \" + str(2*p))\n",
    "\n",
    "# test if your calculation is correct\n",
    "t2, p2 = stats.ttest_ind(x1,x2)\n",
    "print(\"t = \" + str(t2))\n",
    "print(\"p = \" + str(p2))"
   ]
  }
 ],
 "metadata": {
  "kernelspec": {
   "display_name": "Python 3",
   "language": "python",
   "name": "python3"
  },
  "language_info": {
   "codemirror_mode": {
    "name": "ipython",
    "version": 3
   },
   "file_extension": ".py",
   "mimetype": "text/x-python",
   "name": "python",
   "nbconvert_exporter": "python",
   "pygments_lexer": "ipython3",
   "version": "3.6.7"
  }
 },
 "nbformat": 4,
 "nbformat_minor": 2
}
